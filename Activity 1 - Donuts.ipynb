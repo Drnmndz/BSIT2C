{
 "cells": [
  {
   "cell_type": "code",
   "execution_count": null,
   "metadata": {},
   "outputs": [],
   "source": [
    "donut = int(input(\"Number of purchased donuts: \"))\n",
    "discount = 0.02 * int(donut / 120)\t\t\t\t\t\t#Compute discount multiplier by multiplying base (0.02) to number of 10 dozens of donuts  \n",
    "\n",
    "if (0.2 < discount):\t\t\t\t\t\t\t\t\t#Check and correct discount multiplier based on max discount value\n",
    "\tdiscount = 0.2\n",
    "\n",
    "raw_price = 12.75 * donut\n",
    "discounted_price = raw_price - (raw_price * discount)\n",
    "\n",
    "print(\"Total amount: PHP {:.2f}\".format(discounted_price))"
   ]
  }
 ],
 "metadata": {
  "kernelspec": {
   "display_name": "Python 3",
   "language": "python",
   "name": "python3"
  },
  "language_info": {
   "codemirror_mode": {
    "name": "ipython",
    "version": 3
   },
   "file_extension": ".py",
   "mimetype": "text/x-python",
   "name": "python",
   "nbconvert_exporter": "python",
   "pygments_lexer": "ipython3",
   "version": "3.7.3"
  }
 },
 "nbformat": 4,
 "nbformat_minor": 2
}
