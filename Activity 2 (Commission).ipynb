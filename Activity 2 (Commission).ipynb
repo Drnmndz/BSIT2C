{
 "cells": [
  {
   "cell_type": "code",
   "execution_count": 1,
   "metadata": {},
   "outputs": [
    {
     "name": "stdout",
     "output_type": "stream",
     "text": [
      "Enter sales amount: 5358\n",
      "The calculated commission is 513 pesos and 0.70 centavos.\n"
     ]
    }
   ],
   "source": [
    "sales = float(input(\"Enter sales amount: \"))\n",
    "commission = 0\n",
    "\n",
    "if (sales <= 1000):\n",
    "\tcommission = sales * 0.06\n",
    "\n",
    "elif (sales > 1000 and sales <= 5000):\n",
    "\tcommission = 60 + ((sales - 1000) * 0.1)\n",
    "\n",
    "else:\n",
    "\tcommission = 460 + ((sales - 5000) * 0.15)\n",
    "\n",
    "raw = int(commission)\n",
    "remainder = (commission - raw)\n",
    "print(\"The calculated commission is {0} pesos and {1:.2f} centavos.\".format(raw, remainder))"
   ]
  },
  {
   "cell_type": "code",
   "execution_count": null,
   "metadata": {},
   "outputs": [],
   "source": []
  }
 ],
 "metadata": {
  "kernelspec": {
   "display_name": "Python 3",
   "language": "python",
   "name": "python3"
  },
  "language_info": {
   "codemirror_mode": {
    "name": "ipython",
    "version": 3
   },
   "file_extension": ".py",
   "mimetype": "text/x-python",
   "name": "python",
   "nbconvert_exporter": "python",
   "pygments_lexer": "ipython3",
   "version": "3.7.3"
  }
 },
 "nbformat": 4,
 "nbformat_minor": 2
}
